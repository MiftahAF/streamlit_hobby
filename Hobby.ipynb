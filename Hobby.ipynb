{
 "cells": [
  {
   "cell_type": "code",
   "execution_count": 1,
   "metadata": {},
   "outputs": [],
   "source": [
    "import numpy as np\n",
    "import pandas as pd\n",
    "\n",
    "from sklearn.model_selection import train_test_split\n",
    "from sklearn.linear_model import LogisticRegression\n",
    "from sklearn.metrics import accuracy_score"
   ]
  },
  {
   "cell_type": "code",
   "execution_count": 2,
   "metadata": {},
   "outputs": [],
   "source": [
    "Hobbykids_dataset = pd.read_csv('Hobby_Data.csv')"
   ]
  },
  {
   "cell_type": "code",
   "execution_count": 3,
   "metadata": {},
   "outputs": [
    {
     "data": {
      "text/html": [
       "<div>\n",
       "<style scoped>\n",
       "    .dataframe tbody tr th:only-of-type {\n",
       "        vertical-align: middle;\n",
       "    }\n",
       "\n",
       "    .dataframe tbody tr th {\n",
       "        vertical-align: top;\n",
       "    }\n",
       "\n",
       "    .dataframe thead th {\n",
       "        text-align: right;\n",
       "    }\n",
       "</style>\n",
       "<table border=\"1\" class=\"dataframe\">\n",
       "  <thead>\n",
       "    <tr style=\"text-align: right;\">\n",
       "      <th></th>\n",
       "      <th>Olympiad_Participation</th>\n",
       "      <th>Scholarship</th>\n",
       "      <th>School</th>\n",
       "      <th>Fav_sub</th>\n",
       "      <th>Projects</th>\n",
       "      <th>Grasp_pow</th>\n",
       "      <th>Time_sprt</th>\n",
       "      <th>Medals</th>\n",
       "      <th>Career_sprt</th>\n",
       "      <th>Act_sprt</th>\n",
       "      <th>Fant_arts</th>\n",
       "      <th>Won_arts</th>\n",
       "      <th>Time_art</th>\n",
       "      <th>Predicted_Hobby</th>\n",
       "    </tr>\n",
       "  </thead>\n",
       "  <tbody>\n",
       "    <tr>\n",
       "      <th>0</th>\n",
       "      <td>1</td>\n",
       "      <td>1</td>\n",
       "      <td>1</td>\n",
       "      <td>1</td>\n",
       "      <td>1</td>\n",
       "      <td>5</td>\n",
       "      <td>1</td>\n",
       "      <td>1</td>\n",
       "      <td>0</td>\n",
       "      <td>0</td>\n",
       "      <td>0</td>\n",
       "      <td>3</td>\n",
       "      <td>3</td>\n",
       "      <td>1</td>\n",
       "    </tr>\n",
       "    <tr>\n",
       "      <th>1</th>\n",
       "      <td>1</td>\n",
       "      <td>1</td>\n",
       "      <td>1</td>\n",
       "      <td>1</td>\n",
       "      <td>1</td>\n",
       "      <td>3</td>\n",
       "      <td>2</td>\n",
       "      <td>0</td>\n",
       "      <td>0</td>\n",
       "      <td>0</td>\n",
       "      <td>0</td>\n",
       "      <td>0</td>\n",
       "      <td>1</td>\n",
       "      <td>1</td>\n",
       "    </tr>\n",
       "    <tr>\n",
       "      <th>2</th>\n",
       "      <td>1</td>\n",
       "      <td>1</td>\n",
       "      <td>1</td>\n",
       "      <td>2</td>\n",
       "      <td>1</td>\n",
       "      <td>5</td>\n",
       "      <td>1</td>\n",
       "      <td>1</td>\n",
       "      <td>0</td>\n",
       "      <td>0</td>\n",
       "      <td>0</td>\n",
       "      <td>0</td>\n",
       "      <td>1</td>\n",
       "      <td>1</td>\n",
       "    </tr>\n",
       "    <tr>\n",
       "      <th>3</th>\n",
       "      <td>1</td>\n",
       "      <td>1</td>\n",
       "      <td>1</td>\n",
       "      <td>1</td>\n",
       "      <td>1</td>\n",
       "      <td>5</td>\n",
       "      <td>1</td>\n",
       "      <td>1</td>\n",
       "      <td>0</td>\n",
       "      <td>0</td>\n",
       "      <td>0</td>\n",
       "      <td>3</td>\n",
       "      <td>3</td>\n",
       "      <td>1</td>\n",
       "    </tr>\n",
       "    <tr>\n",
       "      <th>4</th>\n",
       "      <td>1</td>\n",
       "      <td>1</td>\n",
       "      <td>1</td>\n",
       "      <td>2</td>\n",
       "      <td>1</td>\n",
       "      <td>5</td>\n",
       "      <td>3</td>\n",
       "      <td>0</td>\n",
       "      <td>0</td>\n",
       "      <td>0</td>\n",
       "      <td>0</td>\n",
       "      <td>0</td>\n",
       "      <td>2</td>\n",
       "      <td>1</td>\n",
       "    </tr>\n",
       "  </tbody>\n",
       "</table>\n",
       "</div>"
      ],
      "text/plain": [
       "   Olympiad_Participation  Scholarship  School  Fav_sub  Projects  Grasp_pow  \\\n",
       "0                       1            1       1        1         1          5   \n",
       "1                       1            1       1        1         1          3   \n",
       "2                       1            1       1        2         1          5   \n",
       "3                       1            1       1        1         1          5   \n",
       "4                       1            1       1        2         1          5   \n",
       "\n",
       "   Time_sprt  Medals  Career_sprt  Act_sprt  Fant_arts  Won_arts  Time_art  \\\n",
       "0          1       1            0         0          0         3         3   \n",
       "1          2       0            0         0          0         0         1   \n",
       "2          1       1            0         0          0         0         1   \n",
       "3          1       1            0         0          0         3         3   \n",
       "4          3       0            0         0          0         0         2   \n",
       "\n",
       "   Predicted_Hobby  \n",
       "0                1  \n",
       "1                1  \n",
       "2                1  \n",
       "3                1  \n",
       "4                1  "
      ]
     },
     "execution_count": 3,
     "metadata": {},
     "output_type": "execute_result"
    }
   ],
   "source": [
    "Hobbykids_dataset.head()"
   ]
  },
  {
   "cell_type": "code",
   "execution_count": 4,
   "metadata": {},
   "outputs": [],
   "source": [
    "X = Hobbykids_dataset.drop (columns='Predicted_Hobby',axis=1)\n",
    "Y = Hobbykids_dataset['Predicted_Hobby']"
   ]
  },
  {
   "cell_type": "code",
   "execution_count": 5,
   "metadata": {},
   "outputs": [
    {
     "name": "stdout",
     "output_type": "stream",
     "text": [
      "      Olympiad_Participation  Scholarship  School  Fav_sub  Projects  \\\n",
      "0                          1            1       1        1         1   \n",
      "1                          1            1       1        1         1   \n",
      "2                          1            1       1        2         1   \n",
      "3                          1            1       1        1         1   \n",
      "4                          1            1       1        2         1   \n",
      "...                      ...          ...     ...      ...       ...   \n",
      "1596                       0            0       1        2         0   \n",
      "1597                       1            0       1        3         1   \n",
      "1598                       1            0       1        3         0   \n",
      "1599                       1            1       1        3         0   \n",
      "1600                       1            0       0        1         1   \n",
      "\n",
      "      Grasp_pow  Time_sprt  Medals  Career_sprt  Act_sprt  Fant_arts  \\\n",
      "0             5          1       1            0         0          0   \n",
      "1             3          2       0            0         0          0   \n",
      "2             5          1       1            0         0          0   \n",
      "3             5          1       1            0         0          0   \n",
      "4             5          3       0            0         0          0   \n",
      "...         ...        ...     ...          ...       ...        ...   \n",
      "1596          3          1       1            1         1          0   \n",
      "1597          4          3       0            1         0          0   \n",
      "1598          3          3       0            1         0          0   \n",
      "1599          4          3       1            1         0          1   \n",
      "1600          3          2       0            1         0          1   \n",
      "\n",
      "      Won_arts  Time_art  \n",
      "0            3         3  \n",
      "1            0         1  \n",
      "2            0         1  \n",
      "3            3         3  \n",
      "4            0         2  \n",
      "...        ...       ...  \n",
      "1596         0         2  \n",
      "1597         1         4  \n",
      "1598         3         2  \n",
      "1599         3         2  \n",
      "1600         0         1  \n",
      "\n",
      "[1601 rows x 13 columns]\n"
     ]
    }
   ],
   "source": [
    "print(X)"
   ]
  },
  {
   "cell_type": "code",
   "execution_count": 6,
   "metadata": {},
   "outputs": [
    {
     "name": "stdout",
     "output_type": "stream",
     "text": [
      "0       1\n",
      "1       1\n",
      "2       1\n",
      "3       1\n",
      "4       1\n",
      "       ..\n",
      "1596    2\n",
      "1597    2\n",
      "1598    2\n",
      "1599    2\n",
      "1600    2\n",
      "Name: Predicted_Hobby, Length: 1601, dtype: int64\n"
     ]
    }
   ],
   "source": [
    "print(Y)"
   ]
  },
  {
   "cell_type": "code",
   "execution_count": 7,
   "metadata": {},
   "outputs": [],
   "source": [
    "X_train, X_test, Y_train, Y_test = train_test_split(X, Y, test_size= 0.2, stratify=Y, random_state=2)"
   ]
  },
  {
   "cell_type": "code",
   "execution_count": 8,
   "metadata": {},
   "outputs": [
    {
     "name": "stdout",
     "output_type": "stream",
     "text": [
      "(1601, 13) (1280, 13) (321, 13)\n"
     ]
    }
   ],
   "source": [
    "print(X.shape, X_train.shape, X_test.shape)"
   ]
  },
  {
   "cell_type": "code",
   "execution_count": 9,
   "metadata": {},
   "outputs": [],
   "source": [
    "model = LogisticRegression()"
   ]
  },
  {
   "cell_type": "code",
   "execution_count": 10,
   "metadata": {},
   "outputs": [
    {
     "data": {
      "text/plain": [
       "LogisticRegression()"
      ]
     },
     "execution_count": 10,
     "metadata": {},
     "output_type": "execute_result"
    }
   ],
   "source": [
    "model.fit(X_train, Y_train)"
   ]
  },
  {
   "cell_type": "code",
   "execution_count": 11,
   "metadata": {},
   "outputs": [],
   "source": [
    "X_train_prediction = model.predict(X_train)\n",
    "training_data_accuracy = accuracy_score(X_train_prediction, Y_train)"
   ]
  },
  {
   "cell_type": "code",
   "execution_count": 12,
   "metadata": {},
   "outputs": [
    {
     "name": "stdout",
     "output_type": "stream",
     "text": [
      "Akurasi data training adalah=  0.921875\n"
     ]
    }
   ],
   "source": [
    "print('Akurasi data training adalah= ', training_data_accuracy)"
   ]
  },
  {
   "cell_type": "code",
   "execution_count": 13,
   "metadata": {},
   "outputs": [],
   "source": [
    "X_test_prediction = model.predict(X_test)\n",
    "test_data_accuracy = accuracy_score(X_test_prediction, Y_test)"
   ]
  },
  {
   "cell_type": "code",
   "execution_count": 14,
   "metadata": {},
   "outputs": [
    {
     "name": "stdout",
     "output_type": "stream",
     "text": [
      "Akurasi data testing adalah =  0.8722741433021807\n"
     ]
    }
   ],
   "source": [
    "print('Akurasi data testing adalah = ', test_data_accuracy)"
   ]
  },
  {
   "cell_type": "code",
   "execution_count": 17,
   "metadata": {},
   "outputs": [
    {
     "name": "stdout",
     "output_type": "stream",
     "text": [
      "[1]\n",
      "Hobby masa depan anak adalah akademik\n"
     ]
    },
    {
     "name": "stderr",
     "output_type": "stream",
     "text": [
      "c:\\Users\\Asus\\anaconda3\\lib\\site-packages\\sklearn\\base.py:450: UserWarning: X does not have valid feature names, but LogisticRegression was fitted with feature names\n",
      "  warnings.warn(\n"
     ]
    }
   ],
   "source": [
    "input_data=(1,1,1,2,1,5,1,1,0,0,0,0,1)\n",
    "\n",
    "input_data_as_numpy_array = np.asarray(input_data)\n",
    "\n",
    "input_data_reshaped = input_data_as_numpy_array.reshape(1,-1)\n",
    "\n",
    "prediction = model.predict(input_data_reshaped)\n",
    "print(prediction)\n",
    "\n",
    "\n",
    "\n",
    "if(prediction[0] == 1):\n",
    "    print('Hobby masa depan anak adalah akademik')\n",
    "\n",
    "elif (prediction[0]== 2):\n",
    "    print('Hobby masa depan anak adalah Seni')\n",
    "\n",
    "else : \n",
    "    print('Hobby masa depan anak adalah olah raga')"
   ]
  },
  {
   "cell_type": "code",
   "execution_count": 18,
   "metadata": {},
   "outputs": [
    {
     "name": "stdout",
     "output_type": "stream",
     "text": [
      "[2]\n",
      "Hobby masa depan anak adalah Seni\n"
     ]
    },
    {
     "name": "stderr",
     "output_type": "stream",
     "text": [
      "c:\\Users\\Asus\\anaconda3\\lib\\site-packages\\sklearn\\base.py:450: UserWarning: X does not have valid feature names, but LogisticRegression was fitted with feature names\n",
      "  warnings.warn(\n"
     ]
    }
   ],
   "source": [
    "input_data=(0,0,1,1,1,2,4,0,1,1,0,3,3)\n",
    "\n",
    "input_data_as_numpy_array = np.asarray(input_data)\n",
    "\n",
    "input_data_reshaped = input_data_as_numpy_array.reshape(1,-1)\n",
    "\n",
    "prediction = model.predict(input_data_reshaped)\n",
    "print(prediction)\n",
    "\n",
    "\n",
    "\n",
    "if(prediction[0] == 1):\n",
    "    print('Hobby masa depan anak adalah akademik')\n",
    "\n",
    "elif (prediction[0]== 2):\n",
    "    print('Hobby masa depan anak adalah Seni')\n",
    "\n",
    "else : \n",
    "    print('Hobby masa depan anak adalah olah raga')"
   ]
  },
  {
   "cell_type": "code",
   "execution_count": 20,
   "metadata": {},
   "outputs": [
    {
     "name": "stdout",
     "output_type": "stream",
     "text": [
      "[3]\n",
      "Hobby masa depan anak adalah olahraga\n"
     ]
    },
    {
     "name": "stderr",
     "output_type": "stream",
     "text": [
      "c:\\Users\\Asus\\anaconda3\\lib\\site-packages\\sklearn\\base.py:450: UserWarning: X does not have valid feature names, but LogisticRegression was fitted with feature names\n",
      "  warnings.warn(\n"
     ]
    }
   ],
   "source": [
    "input_data=(0,0,0,2,0,3,3,0,0,0,1,1,4)\n",
    "\n",
    "input_data_as_numpy_array = np.asarray(input_data)\n",
    "\n",
    "input_data_reshaped = input_data_as_numpy_array.reshape(1,-1)\n",
    "\n",
    "prediction = model.predict(input_data_reshaped)\n",
    "print(prediction)\n",
    "\n",
    "\n",
    "\n",
    "if(prediction[0] == 1):\n",
    "    print('Hobby masa depan anak adalah akademik')\n",
    "\n",
    "elif (prediction[0]== 2):\n",
    "    print('Hobby masa depan anak adalah Seni')\n",
    "\n",
    "else : \n",
    "    print('Hobby masa depan anak adalah olahraga')"
   ]
  }
 ],
 "metadata": {
  "kernelspec": {
   "display_name": "base",
   "language": "python",
   "name": "python3"
  },
  "language_info": {
   "codemirror_mode": {
    "name": "ipython",
    "version": 3
   },
   "file_extension": ".py",
   "mimetype": "text/x-python",
   "name": "python",
   "nbconvert_exporter": "python",
   "pygments_lexer": "ipython3",
   "version": "3.9.13"
  },
  "orig_nbformat": 4,
  "vscode": {
   "interpreter": {
    "hash": "52d90d3cc821dd0beedd6e719dbdecc722c226b9d90ed1b663c34e1877f1142e"
   }
  }
 },
 "nbformat": 4,
 "nbformat_minor": 2
}
